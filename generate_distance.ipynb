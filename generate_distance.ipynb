{
 "cells": [
  {
   "cell_type": "code",
   "execution_count": 1,
   "metadata": {},
   "outputs": [],
   "source": [
    "import pandas as pd\n",
    "import numpy as np\n",
    "from math import radians, sin, cos, sqrt, atan2\n",
    "\n"
   ]
  },
  {
   "cell_type": "code",
   "execution_count": 8,
   "metadata": {},
   "outputs": [
    {
     "name": "stdout",
     "output_type": "stream",
     "text": [
      "       id           x          y   distance       RSSI  RSSI_noise\n",
      "90   B091  114.472030  30.460411   6.902835 -69.719771  -67.772172\n",
      "138  B139  114.471811  30.460411  16.372341 -78.660586  -78.624517\n",
      "137  B138  114.472030  30.460609  18.291341 -79.807969  -80.164163\n",
      "44   B045  114.471811  30.460609  23.557952 -82.427451  -83.426703\n"
     ]
    }
   ],
   "source": [
    "# 计算两个经纬度坐标之间的距离，这里采用欧几里得距离\n",
    "def distance(coord1, coord2):\n",
    "    R = 6371e3  # 地球半径，单位：米\n",
    "    lat1, lon1, lat2, lon2 = map(radians, [coord1[1], coord1[0], coord2[1], coord2[0]])\n",
    "    \n",
    "    dlat = lat2 - lat1\n",
    "    dlon = lon2 - lon1\n",
    "    \n",
    "    a = sin(dlat / 2)**2 + cos(lat1) * cos(lat2) * sin(dlon / 2)**2\n",
    "    c = 2 * atan2(sqrt(a), sqrt(1 - a))\n",
    "    \n",
    "    return R * c\n",
    "\n",
    "# 找到距离给定坐标最近的n个信标\n",
    "def find_nearest_beacons(df, coord, n):\n",
    "    df['distance'] = df.apply(lambda row: distance(coord, [row['x'], row['y']]), axis=1)\n",
    "    nearest_beacons = df.nsmallest(n, 'distance')\n",
    "    return nearest_beacons\n",
    "\n",
    "def rssi_distance_relation(x):\n",
    "    n = -2.38368781\n",
    "    d0 = -49.71997549\n",
    "    return 10*n * np.log10(x) + d0\n",
    "\n",
    "# 测试数据\n",
    "df =  pd.read_csv(r'C:\\\\Users\\Administrator\\Desktop\\WSN+IMU定位\\\\数据\\\\测试集\\Beacon.csv')\n",
    "\n",
    "# 给定坐标\n",
    "coord_A = [114.4719753,30.46045143]\n",
    "\n",
    "# 要找的信标数量\n",
    "num_beacons = 4\n",
    "\n",
    "# 调用函数\n",
    "nearest_beacons = find_nearest_beacons(df, coord_A, num_beacons)\n",
    "nearest_beacons['RSSI'] = nearest_beacons['distance'].apply(rssi_distance_relation)\n",
    "noise = np.random.normal(0, 1, len(nearest_beacons['RSSI']))\n",
    "nearest_beacons['RSSI_noise'] = nearest_beacons['RSSI'] + noise\n",
    "# 输出结果\n",
    "\n",
    "print(nearest_beacons)"
   ]
  }
 ],
 "metadata": {
  "kernelspec": {
   "display_name": "base",
   "language": "python",
   "name": "python3"
  },
  "language_info": {
   "codemirror_mode": {
    "name": "ipython",
    "version": 3
   },
   "file_extension": ".py",
   "mimetype": "text/x-python",
   "name": "python",
   "nbconvert_exporter": "python",
   "pygments_lexer": "ipython3",
   "version": "3.8.8"
  },
  "orig_nbformat": 4
 },
 "nbformat": 4,
 "nbformat_minor": 2
}
