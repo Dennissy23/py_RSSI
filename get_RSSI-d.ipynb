{
 "cells": [
  {
   "cell_type": "code",
   "execution_count": 1,
   "metadata": {},
   "outputs": [],
   "source": [
    "import pandas as pd\n",
    "from scipy.ndimage import gaussian_filter1d\n",
    "import numpy as np\n",
    "import matplotlib.pyplot as plt"
   ]
  },
  {
   "cell_type": "code",
   "execution_count": 2,
   "metadata": {},
   "outputs": [
    {
     "name": "stdout",
     "output_type": "stream",
     "text": [
      "RSSI-距离关系: [[ -2.38368781]\n",
      " [-49.71997549]]\n"
     ]
    },
    {
     "data": {
      "image/png": "[encoded data removed]",
      "text/plain": [
       "<Figure size 432x288 with 1 Axes>"
      ]
     },
     "metadata": {
      "needs_background": "light"
     },
     "output_type": "display_data"
    }
   ],
   "source": [
    "\n",
    "def custom_gaussian_filter(data):\n",
    "    mean = data.mean()\n",
    "    std_dev = data.std()\n",
    "\n",
    "    # 取落在平均值±标准差区间的RSSI值\n",
    "    filtered_data = data[(data >= mean - std_dev) & (data <= mean + std_dev)]\n",
    "\n",
    "    # 计算过滤后数据的平均值\n",
    "    filtered_mean = filtered_data.mean()\n",
    "\n",
    "    return filtered_mean\n",
    "\n",
    "# 读取Excel文件\n",
    "file_path = r'C:\\\\Users\\Administrator\\Desktop\\WSN+IMU定位\\\\数据\\\\测试集\\\\新信标20mRSSI.xlsx'\n",
    "df = pd.read_excel(file_path, header=None)\n",
    "\n",
    "# 保存过滤后的RSSI数据\n",
    "output_data = []\n",
    "\n",
    "# 对每一列应用自定义高斯滤波器\n",
    "for column in range(20):\n",
    "    filtered_mean = custom_gaussian_filter(df.iloc[:, column])\n",
    "    output_data.append(filtered_mean)\n",
    "\n",
    "# 计算RSSI-距离关系\n",
    "fai = np.column_stack((10 * np.log10(np.arange(1, 21)), np.ones(20)))\n",
    "y = np.array(output_data).reshape(-1, 1)\n",
    "theta = np.linalg.inv(fai.T @ fai) @ fai.T @ y\n",
    "\n",
    "# 创建一个包含距离信息的列表\n",
    "distances = [i+1 for i in range(20)]\n",
    "\n",
    "# 创建一个新的DataFrame，保存输出数据和对应的距离\n",
    "output_df = pd.DataFrame({'Distance (m)': distances, 'RSSI': output_data})\n",
    "\n",
    "# 将结果保存到一个新的Excel文件\n",
    "output_file_path = 'output.xlsx'\n",
    "output_df.to_excel(output_file_path, index=False)\n",
    "\n",
    "# 输出RSSI-距离关系\n",
    "print(\"RSSI-距离关系:\", theta)\n",
    "\n",
    "\n",
    "\n",
    "def rssi_distance_relation(x):\n",
    "    return 10*theta[0][0] * np.log10(x) + theta[1][0]\n",
    "\n",
    "# 生成距离数据（x轴）\n",
    "distances = np.linspace(1, 100, 1000)\n",
    "\n",
    "# 计算对应的RSSI值（y轴）\n",
    "rssi_values = rssi_distance_relation(distances)\n",
    "\n",
    "# 绘制RSSI与距离关系图\n",
    "plt.plot(distances, rssi_values)\n",
    "plt.xlabel('Distance (m)')\n",
    "plt.ylabel('RSSI (dB)')\n",
    "plt.title('RSSI vs. D')\n",
    "plt.grid(True)\n",
    "plt.show()"
   ]
  }
 ],
 "metadata": {
  "kernelspec": {
   "display_name": "base",
   "language": "python",
   "name": "python3"
  },
  "language_info": {
   "codemirror_mode": {
    "name": "ipython",
    "version": 3
   },
   "file_extension": ".py",
   "mimetype": "text/x-python",
   "name": "python",
   "nbconvert_exporter": "python",
   "pygments_lexer": "ipython3",
   "version": "3.8.8"
  },
  "orig_nbformat": 4
 },
 "nbformat": 4,
 "nbformat_minor": 2
}
